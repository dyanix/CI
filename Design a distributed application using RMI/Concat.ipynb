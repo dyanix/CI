{
 "cells": [
  {
   "cell_type": "code",
   "execution_count": 3,
   "id": "597f7c01",
   "metadata": {},
   "outputs": [
    {
     "name": "stdout",
     "output_type": "stream",
     "text": [
      "Requirement already satisfied: pyro4 in ./opt/anaconda3/lib/python3.9/site-packages (4.82)\n",
      "Requirement already satisfied: serpent>=1.27 in ./opt/anaconda3/lib/python3.9/site-packages (from pyro4) (1.41)\n",
      "Note: you may need to restart the kernel to use updated packages.\n"
     ]
    }
   ],
   "source": [
    "pip install pyro4"
   ]
  },
  {
   "cell_type": "code",
   "execution_count": 1,
   "id": "ae171e2f",
   "metadata": {},
   "outputs": [
    {
     "name": "stdout",
     "output_type": "stream",
     "text": [
      "Server URI: PYRO:obj_4e83e95d9e99465589ddc89ede40aee6@localhost:55302\n"
     ]
    }
   ],
   "source": [
    "import Pyro4\n",
    "\n",
    "@Pyro4.expose\n",
    "class StringConcatenator(object):\n",
    "    def concatenate_strings(self, str1, str2):\n",
    "        return str1 + str2\n",
    "\n",
    "def main():\n",
    "    daemon = Pyro4.Daemon()\n",
    "    uri = daemon.register(StringConcatenator)\n",
    "    \n",
    "    print(\"Server URI:\", uri)\n",
    "    daemon.requestLoop()\n",
    "\n",
    "if __name__ == \"__main__\":\n",
    "    main()\n"
   ]
  },
  {
   "cell_type": "code",
   "execution_count": 4,
   "id": "ae726008",
   "metadata": {},
   "outputs": [
    {
     "name": "stdout",
     "output_type": "stream",
     "text": [
      "Enter the URI of the server: PYRO:obj_4ca1e94acd4f4dedae77de71ab5e9b7a@localhost:55325\n",
      "Enter the first string: hi \n",
      "Enter the second string: Dyanesh\n",
      "Concatenated String: hi Dyanesh\n"
     ]
    }
   ],
   "source": [
    "import Pyro4\n",
    "\n",
    "def main():\n",
    "    uri = input(\"Enter the URI of the server: \")\n",
    "    str1 = input(\"Enter the first string: \")\n",
    "    str2 = input(\"Enter the second string: \")\n",
    "\n",
    "    concat_server = Pyro4.Proxy(uri)\n",
    "    concatenated_str = concat_server.concatenate_strings(str1, str2)\n",
    "    \n",
    "    print(\"Concatenated String:\", concatenated_str)\n",
    "\n",
    "if __name__ == \"__main__\":\n",
    "    main()\n",
    "    \n"
   ]
  },
  {
   "cell_type": "code",
   "execution_count": null,
   "id": "c650eb14",
   "metadata": {},
   "outputs": [],
   "source": []
  }
 ],
 "metadata": {
  "kernelspec": {
   "display_name": "Python 3 (ipykernel)",
   "language": "python",
   "name": "python3"
  },
  "language_info": {
   "codemirror_mode": {
    "name": "ipython",
    "version": 3
   },
   "file_extension": ".py",
   "mimetype": "text/x-python",
   "name": "python",
   "nbconvert_exporter": "python",
   "pygments_lexer": "ipython3",
   "version": "3.9.7"
  }
 },
 "nbformat": 4,
 "nbformat_minor": 5
}
